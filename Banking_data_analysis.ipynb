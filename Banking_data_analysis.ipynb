{
 "cells": [
  {
   "cell_type": "markdown",
   "id": "bc6653ec-3639-4744-8ec1-2bdf59edfe09",
   "metadata": {},
   "source": [
    "### Setup libraries and parameters needed later"
   ]
  },
  {
   "cell_type": "code",
   "execution_count": null,
   "id": "f859a69b-068d-442a-bb0a-25ddf19d0943",
   "metadata": {},
   "outputs": [],
   "source": [
    "import pandas as pd\n",
    "pd.options.mode.chained_assignment = None \n",
    "import matplotlib.pyplot as plt\n",
    "import numpy as np\n",
    "\n",
    "# list of OCR-errors noticed in account numbers while exploring dataset \n",
    "corrections = {'ACClOOO':'ACC1000', 'ACClOOl':'ACC1001', 'ACClOO2':'ACC1002', 'ACClOO3':'ACC1003', 'ACClOO4':'ACC1004', \n",
    "               'ACClOO5':'ACC1005', 'ACClOO6':'ACC1006', 'ACClOO7':'ACC1007', 'ACClOO8':'ACC1008', 'ACClOO9':'ACC1009'}\n",
    "\n",
    "# a dictionary of month <-> number associated\n",
    "set = {1:'January', 2:'February', 3:'March', 4:'April', 5:'May', 6:'June', \n",
    "       7:'July', 8:'August', 9:'September', 10:'October', 11:'November', 12:'December'}\n",
    "\n",
    "# threshold for z-score (anomaly detection), e.g., z-score > 2 or < -2\n",
    "threshold = 2.0"
   ]
  },
  {
   "cell_type": "markdown",
   "id": "f8faa839-78da-4f75-912d-1073faa4ae19",
   "metadata": {},
   "source": [
    "### Collect data from target file "
   ]
  },
  {
   "cell_type": "code",
   "execution_count": null,
   "id": "9351ad26-d415-410d-9208-f33572b2ff12",
   "metadata": {},
   "outputs": [],
   "source": [
    "file = \"banking_data_assignment.csv\"\n",
    "data = pd.read_csv(file)\n",
    "#print(type(data))\n",
    "#display(data)"
   ]
  },
  {
   "cell_type": "markdown",
   "id": "ed67bb64-6015-4d0a-8c84-733629551dfe",
   "metadata": {},
   "source": [
    "### General exploration"
   ]
  },
  {
   "cell_type": "code",
   "execution_count": null,
   "id": "90ee0832-cd2c-49b7-a242-631cecd720ea",
   "metadata": {
    "scrolled": true
   },
   "outputs": [],
   "source": [
    "# exploring OCR-errors in features except Amount\n",
    "print(data['Account Number'].unique())\n",
    "print(data['Transaction Type'].unique())\n",
    "print(data['Description'].unique())\n",
    "\n",
    "\"\"\"\n",
    "Insights gained have been written as comments inside triple quotes.\n",
    "Account feature contains OCR-errors. These would need to be corrected.\n",
    "Transaction types seem okay.\n",
    "Descriptions seem okay.\n",
    "Amount feature is dealt with later.\n",
    "\"\"\""
   ]
  },
  {
   "cell_type": "markdown",
   "id": "44694aa7-958b-4096-8d97-33558f4f7bf5",
   "metadata": {},
   "source": [
    "### Correct OCR-errors in account numbers"
   ]
  },
  {
   "cell_type": "code",
   "execution_count": null,
   "id": "24a8a32c-dd24-4de0-ac86-6b254d2f07d1",
   "metadata": {},
   "outputs": [],
   "source": [
    "# the account numbers seem as OCR-errors assuming they should be alphanumeric of form 'ACC+digits'\n",
    "# correcting the account numbers 'lOO' -> '100'\n",
    "\n",
    "data['Account Number'] = data['Account Number'].map(corrections).fillna(data['Account Number'])\n",
    "#display(data)"
   ]
  },
  {
   "cell_type": "markdown",
   "id": "87bf3bb2-8604-463e-8758-a02c455636f1",
   "metadata": {},
   "source": [
    "### Check type of transaction dates"
   ]
  },
  {
   "cell_type": "code",
   "execution_count": null,
   "id": "a3a7105d-af9f-40b7-a70e-f16f13fbb636",
   "metadata": {},
   "outputs": [],
   "source": [
    "print(type(data['Transaction Date'][0]))\n",
    "\n",
    "\"\"\"\n",
    "Transaction dates are strings currently.\n",
    "They will be converted to datetime format for sorting and easier assessment.\n",
    "\"\"\""
   ]
  },
  {
   "cell_type": "markdown",
   "id": "0cf08db7-a339-45e4-8d13-0a0490cfffc2",
   "metadata": {},
   "source": [
    "### Convert dates to datetime format and then sort"
   ]
  },
  {
   "cell_type": "code",
   "execution_count": null,
   "id": "05789b46-ce44-42ba-9e9e-6192a9c37b1c",
   "metadata": {},
   "outputs": [],
   "source": [
    "data['Transaction Date'] = pd.to_datetime(data['Transaction Date'])\n",
    "\n",
    "# sort the database based on dates to help assessment \n",
    "data_sorted = data.sort_values(by = 'Transaction Date', ignore_index = True)\n",
    "\n",
    "#display(data_sorted)"
   ]
  },
  {
   "cell_type": "markdown",
   "id": "ab1581c2-c6e5-442f-9b98-50288847ed40",
   "metadata": {},
   "source": [
    "### Preliminary cleaning of Amount feature"
   ]
  },
  {
   "cell_type": "code",
   "execution_count": null,
   "id": "2abaa8c5-c997-4d27-927e-bc9ac68bd33c",
   "metadata": {},
   "outputs": [],
   "source": [
    "# clean $ sign and convert string values to int\n",
    "def clean(val: str) -> int:\n",
    "    if val[0] == '$':\n",
    "        val = val[1:]\n",
    "    return int(val.split('.')[0])\n",
    "\n",
    "data_sorted['Amount'] = np.array(map(clean, data_sorted['Amount']))\n",
    "data_sorted.to_csv('Sorted_data.csv')"
   ]
  },
  {
   "cell_type": "markdown",
   "id": "1736513c-0949-4a89-9ec5-e40623d8238a",
   "metadata": {},
   "source": [
    "### Function to visualize the monthly ins and outs based on description and check for discrepancy"
   ]
  },
  {
   "cell_type": "code",
   "execution_count": null,
   "id": "b0e87f08-5ccc-435a-8180-9f5e4cf987d1",
   "metadata": {},
   "outputs": [],
   "source": [
    "def visualize(data: pd.DataFrame, month: int) -> tuple[plt.figure, int]:  \n",
    "    data_month = data.loc[(data['Transaction Date'].dt.month == month)]\n",
    "    #display(data_month)\n",
    "    \n",
    "    # separate monthly total\n",
    "    data_month_clipped = data_month[data_month['Account Number'] != 'SUBTOTAL']\n",
    "    month_total_row = data_month[data_month['Account Number'] == 'SUBTOTAL']\n",
    "    #display(data_month)\n",
    "    #display(month_total_row)\n",
    "    \n",
    "    # given sum \n",
    "    month_total = month_total_row.iat[0, 3]\n",
    "    # group monthly sum based on descriptor\n",
    "    group_sum = data_month_clipped.groupby('Description')['Amount'].sum()\n",
    "    group_sum = group_sum.to_dict()\n",
    "    #print(jan_total)\n",
    "\n",
    "    global set\n",
    "    plt.figure(figsize=(12, 6))\n",
    "    plt.bar(group_sum.keys(), group_sum.values())\n",
    "    if sum(group_sum.values()) == month_total:\n",
    "        plt.title(f'{set[month]} || Calculated: {sum(group_sum.values())} and Given: {month_total} || No Discrepancy')\n",
    "    else:\n",
    "        plt.title(f'{set[month]} || Calculated {sum(group_sum.values())} and Given: {month_total} || Discrepancy')\n",
    "    \n",
    "    return plt, month_total"
   ]
  },
  {
   "cell_type": "markdown",
   "id": "feddcdbe-6f71-449f-9ccf-9e27dbed2378",
   "metadata": {},
   "source": [
    "### Visualize amount data for all months"
   ]
  },
  {
   "cell_type": "code",
   "execution_count": null,
   "id": "1a92d820-324f-4caf-86c6-2d5affc62593",
   "metadata": {},
   "outputs": [],
   "source": [
    "yearly_sum = 0\n",
    "for i in range(1, 13):\n",
    "    figure, total = visualize(data_sorted, i)\n",
    "    #figure.ioff()\n",
    "    yearly_sum += total\n",
    "    #figure.show()\n",
    "\n",
    "\"\"\"All monthly plots show no discrepancy between calculated sum and given sum as of now (***indicates no errors***).\n",
    "However, the task descriptions hints that withdrawals need to be negative values, which I agree with (***errors are definitely there***).\n",
    "Logic then dictates that the provided monthly sum values are wrong themselves as they have been calculated using faulty amount data.\n",
    "Therefore, monthly/yearly total cannot be considered authentic and used for verification.\n",
    "The transformation of amount data is implemented next.\"\"\"\n"
   ]
  },
  {
   "cell_type": "markdown",
   "id": "c9dea834-8452-4fe9-8a15-73f6d10e0f55",
   "metadata": {},
   "source": [
    "### Transform Amount sign based on transaction type"
   ]
  },
  {
   "cell_type": "code",
   "execution_count": null,
   "id": "467e1c13-bd50-4e61-9d8a-5c63414c3234",
   "metadata": {},
   "outputs": [],
   "source": [
    "# Withdrawal, ATM Withdrawal, Card payment, Direct Debit can only be negative\n",
    "condition = (data_sorted['Transaction Type'] == 'Withdrawal') | (data_sorted['Transaction Type'] == 'ATM Withdrawal') \\\n",
    "#| (data_sorted['Transaction Type'] == 'Card Payment') | (data_sorted['Transaction Type'] == 'Direct Debit')\n",
    "\n",
    "data_sorted.loc[condition, 'Amount'] = -1 * abs(data_sorted['Amount'])\n",
    "\n",
    "# Perhaps Deposit can only be positive???\n",
    "#condition = (data_sorted['Transaction Type'] == 'Deposit')\n",
    "#data_sorted.loc[condition, 'Amount'] = abs(data_sorted['Amount'])\n",
    "\n",
    "data_sorted.to_csv('Sorted_with_corrected_withdrawal_data.csv')\n",
    "#display(data_sorted)\n"
   ]
  },
  {
   "cell_type": "markdown",
   "id": "7e2b0ac1-1896-4482-979a-ce868f746bdf",
   "metadata": {},
   "source": [
    "### Visualize amount data again for all months with corrected withdrawal"
   ]
  },
  {
   "cell_type": "code",
   "execution_count": null,
   "id": "a3c9be82-216c-40a8-ab3b-76beee869854",
   "metadata": {},
   "outputs": [],
   "source": [
    "# this analysis is optional (doesn't convey anything) as monthly/yearly sum cannot be used for verification\n",
    "\n",
    "yearly_sum = 0\n",
    "for i in range(1, 13):\n",
    "    figure, total = visualize(data_sorted, i)\n",
    "    #figure.ioff()\n",
    "    yearly_sum += total\n",
    "    #figure.show()"
   ]
  },
  {
   "cell_type": "markdown",
   "id": "6b2378b6-1860-4612-bc64-074ecd60f009",
   "metadata": {},
   "source": [
    "### Function to detect anomalies using z-score metric"
   ]
  },
  {
   "cell_type": "code",
   "execution_count": null,
   "id": "dee1fbc2-a40f-4e9a-a468-f620d97c455a",
   "metadata": {},
   "outputs": [],
   "source": [
    "# anomaly detection among features using z-score\n",
    "def anomaly(data_sorted: pd.DataFrame, feature: str) -> None:\n",
    "    global threshold\n",
    "    types = data_sorted[feature].dropna().unique()\n",
    "    #print(types)\n",
    "    data_clipped = data_sorted[[feature, 'Amount']].dropna()\n",
    "    #display(data_clipped)\n",
    "    for i in types:\n",
    "        z_dataset = data_clipped[data_clipped[feature] == i]\n",
    "        #print(z_dataset)\n",
    "        arr = z_dataset['Amount']\n",
    "        z_dataset['z-score'] = (arr - arr.mean()) / arr.std()\n",
    "        #print(z_dataset)\n",
    "        anomaly = z_dataset[abs(z_dataset['z-score']) > threshold]\n",
    "        #print(anomaly)\n",
    "        if len(anomaly) > 0:\n",
    "            for j in anomaly['z-score']:\n",
    "                result = anomaly[anomaly['z-score'] == j].index.values\n",
    "                print(f'{feature} -> {i}: Possible anomaly at index {result}')\n",
    "        else:\n",
    "            print(f'{feature} -> {i}: No anomaly')"
   ]
  },
  {
   "cell_type": "markdown",
   "id": "4e194b0e-28bb-4f1a-a011-d9004b48cef1",
   "metadata": {},
   "source": [
    "### Detect anomalies in features"
   ]
  },
  {
   "cell_type": "code",
   "execution_count": null,
   "id": "21c7141e-58f6-4a08-a198-f186047429f1",
   "metadata": {
    "scrolled": true
   },
   "outputs": [],
   "source": [
    "# more features can be added to the list below to check for anomalies based on z-score\n",
    "features = ['Transaction Type', 'Description', 'Account Number']\n",
    "for i in features:\n",
    "    anomaly(data_sorted, i)\n",
    "\n",
    "\"\"\"\n",
    "Some anomalies have been pointed out by the z-score metric threshold.\n",
    "These can be looked at further.\n",
    "\"\"\""
   ]
  },
  {
   "cell_type": "code",
   "execution_count": null,
   "id": "c917814c-ae8e-423f-8077-9a24c96fd7d1",
   "metadata": {},
   "outputs": [],
   "source": []
  }
 ],
 "metadata": {
  "kernelspec": {
   "display_name": "Python 3 (ipykernel)",
   "language": "python",
   "name": "python3"
  },
  "language_info": {
   "codemirror_mode": {
    "name": "ipython",
    "version": 3
   },
   "file_extension": ".py",
   "mimetype": "text/x-python",
   "name": "python",
   "nbconvert_exporter": "python",
   "pygments_lexer": "ipython3",
   "version": "3.11.7"
  }
 },
 "nbformat": 4,
 "nbformat_minor": 5
}
